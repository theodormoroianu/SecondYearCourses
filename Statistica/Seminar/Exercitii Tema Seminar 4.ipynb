{
 "cells": [
  {
   "cell_type": "markdown",
   "metadata": {},
   "source": [
    "# Rezolvare Probleme Seminar 3-4"
   ]
  },
  {
   "cell_type": "markdown",
   "metadata": {},
   "source": [
    "## Problema 14\n",
    "_De cȃte ori trebuie aruncat un zar pentru ca fața cu 4 puncte să apară cel\n",
    "puțin o dată cu probabilitate mai mare decȃt 0.6?_"
   ]
  },
  {
   "cell_type": "markdown",
   "metadata": {},
   "source": [
    "Fie $P_k(x)$ probabilitatea ca a $k$-a aruncare cu zarul sa dea $x$.\n",
    "Putem face mai multe observatii:\n",
    "* $P_k$ este independent de $P_l$ pentru $k \\neq l$ (o aruncare a zarului nu o infuenteaza pe alta)\n",
    "* $P_k(x) = \\frac{1}{6}$ pentru $x \\in \\{1 \\dots 6\\}$.\n",
    "Asadar, probabilitatea ca o fata $x$ sa nu apara deloc in primele $n$ aruncari este $\\prod_{k=1}^n{(1 - P_k(x))}$  \n",
    "Probabilitatea ca o fata sa apara in primele $n$ aruncari este deci $1 - \\prod_{k=1}^n{(1 - P_k(x))} = 1 - (1 - P(x))^n$\n",
    "\n",
    "Putem deci sa facem urmatorul algoritm:"
   ]
  },
  {
   "cell_type": "code",
   "execution_count": 7,
   "metadata": {},
   "outputs": [
    {
     "name": "stdout",
     "output_type": "stream",
     "text": [
      "Numarul de aruncari necesar este 6\n"
     ]
    }
   ],
   "source": [
    "def RequiredSteps(dice_faces: int, minimal_probability: float):\n",
    "    # Probabilitatea unei fete\n",
    "    face_probability = 1. / dice_faces\n",
    "    \n",
    "    # Iterez numarul de pasi\n",
    "    for i in range(100000):\n",
    "        probability = 1. - (1 - face_probability) ** i\n",
    "        if probability >= minimal_probability:\n",
    "            return i\n",
    "\n",
    "# Afisarea raspunsului\n",
    "print(\"Numarul de aruncari necesar este\", RequiredSteps(6, 0.6))"
   ]
  },
  {
   "cell_type": "markdown",
   "metadata": {},
   "source": [
    "---"
   ]
  },
  {
   "cell_type": "markdown",
   "metadata": {},
   "source": [
    "## Problema 11\n",
    "\n",
    "_Un agregat are 3 componente, la care pot apărea defecțiuni de funcționare cu probabilitățile de: 0.075, 0.09 și respectiv 0.082. Să se determine:_\n",
    "1. _probabilitatea minimă ca agregatul să funcționeze(agregatul funcționează numai dacă toate cele trei componente sunt funcționale)_\n",
    "2. _probabilitatea maximă ca agregatul să funcționeze_"
   ]
  },
  {
   "cell_type": "markdown",
   "metadata": {},
   "source": [
    "Fie cele trei componente $C_1$, $C_2$ si $C_3$.  \n",
    "Notam cu $F(C_i)$ evenimentul ca a $i$-a componenta sa fie functionala, si cu\n",
    "$D(C_i)$ evenimentul ca a $i$-a componenta sa fie defecta.  \n",
    "Din faptul ca o componenta fie este defecta fie este functionala, avem:\n",
    "$$\n",
    "P(D(C_i)) + P(F(C_i)) = 1 \\Longleftrightarrow P(F(C_i)) = 1 - P(D(C_i)) \n",
    "$$\n",
    "\n",
    "1. Probabilitatea minima ca agregatul sa functioneze:  \n",
    "    Cantitatea pe care dorim sa o maximizam este:\n",
    "    $$\n",
    "    P_{defect} = P(D(C_1) \\cup D(C_2) \\cup D(C_3)) = P(D(C_1)) + P(D(C_2)) + P(D(C_3)) - P(D(C_1) \\cap D(C_2)) - \\dots + P(D(C_1) \\cap D(C_2) \\cap D(C_3)) \n",
    "    $$\n",
    "\n",
    "    $$P_{defect} \\leq P(D(C_1)) + P(D(C_2)) + P(D(C_3))$$\n",
    "\n",
    "    Cum observam ca $P(D(C_1)) + P(D(C_2)) + P(D(C_3)) = 0.247 < 1$, putem sa presupunem ca niciodata nu apar doua defectiuni in acelasi timp, adica:\n",
    "    $$P(D(C_i) \\ | \\ D(C_j)) = 0 \\ \\ \\ \\forall \\ i \\neq j$$\n",
    "    \n",
    "    Asadar, pentru a maximiza $P_{defect}$, putem sa presupunem ca toate probabilitatile conditionale sunt $0$ (e.g. nu apar niciodata doua defectiuni in acelasi timp). Obtinem:\n",
    "    $$P_{defect} = P(D(C_1)) + P(D(C_2)) + P(D(C_3)) = 0.247$$\n",
    "    $$P_{functional} = 1 - P_{defect} = 0.753$$\n",
    "    \n",
    "2. Probabilitatea maxima ca agregatul sa functioneze:  \n",
    "    Cantitatea pe care vrem sa o maximizam este:\n",
    "    $$\n",
    "    P_{functional} = P(F(C_1) \\cap F(C_2) \\cap F(C_3))\n",
    "    $$\n",
    "    $$\n",
    "    P_{functional} \\leq min(P(F(C_1)), P(F(C_2)), P(F(C_3)))\n",
    "    $$\n",
    "    \n",
    "    Cum $P(F(C_1)) \\gt P(F(C_3)) \\gt P(F(C_2))$, putem sa setam probabilitatile conditionale urmatoare:  \n",
    "    $$P(F(C_1) \\ | \\ F(C_2)) = P(F(C_3) \\ | \\ F(C_2)) = 1$$\n",
    "    Altfel spus, daca componenta $C_2$ este functionala, atunci si componentele $C_1$ si $C_3$ sunt functionale.\n",
    "    Asadar, obtinem:\n",
    "    $$P_{functional} = max(P(F(C_1)), P(F(C_2)), P(F(C_3))) = P(F(C_2)) = 1 - P(D(C_2)) = 1 - 0.09 = 0.91$$\n",
    "    "
   ]
  },
  {
   "cell_type": "markdown",
   "metadata": {},
   "source": [
    "---"
   ]
  },
  {
   "cell_type": "markdown",
   "metadata": {},
   "source": [
    "## Problema 13\n",
    "_Să se determine probabilitatea ca suma a două numere luate la ȋntȃmplare 2 din intervalul [0,1] să nu depășească 1, iar produsul lor să nu depășească 2/9._"
   ]
  },
  {
   "cell_type": "markdown",
   "metadata": {},
   "source": [
    "<div>\n",
    "<img src=\"Geogebra.png\" width=\"300\"/>\n",
    "</div>"
   ]
  },
  {
   "cell_type": "markdown",
   "metadata": {},
   "source": [
    "Suntem interesati de aria de sub grafic. Cele doua functii sunt:\n",
    "1. $F(x) = 1 - x$\n",
    "2. $G(x) = \\frac{2}{9x}$\n",
    "\n",
    "Suntem interesati in:\n",
    "$$\n",
    "S = \\int_0^1{max(F(x), G(x)) \\ dx} = \\int_0^{\\frac{1}{3}}{F(x) dx} + \\int_{\\frac{1}{3}}^{\\frac{2}{3}}{G(x) dx} + \\int_{\\frac{2}{3}}^1{G(x) dx}\n",
    "$$\n",
    "$$\n",
    "S = \\int_0^{\\frac{1}{3}}{(1 - x) dx} + \\int_{\\frac{1}{3}}^{\\frac{2}{3}}{\\frac{2}{9x} dx} + \\int_{\\frac{2}{3}}^1{(1 - x) dx}\n",
    "$$\n",
    "$$\n",
    "S = \\frac{5}{18} + \\frac{2}{9} ln(2) + \\frac{1}{9} \\simeq 0.487\n",
    "$$"
   ]
  }
 ],
 "metadata": {
  "kernelspec": {
   "display_name": "Python 3",
   "language": "python",
   "name": "python3"
  },
  "language_info": {
   "codemirror_mode": {
    "name": "ipython",
    "version": 3
   },
   "file_extension": ".py",
   "mimetype": "text/x-python",
   "name": "python",
   "nbconvert_exporter": "python",
   "pygments_lexer": "ipython3",
   "version": "3.8.6"
  }
 },
 "nbformat": 4,
 "nbformat_minor": 4
}
